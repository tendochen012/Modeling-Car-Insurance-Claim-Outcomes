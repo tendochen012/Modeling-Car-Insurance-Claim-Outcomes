{
 "cells": [
  {
   "cell_type": "markdown",
   "id": "c3f0e974-faf8-458f-bf2a-06a469d0ea5e",
   "metadata": {},
   "source": [
    "![car](car.jpg)\n",
    "\n",
    "Insurance companies invest a lot of [time and money](https://www.accenture.com/_acnmedia/pdf-84/accenture-machine-leaning-insurance.pdf) into optimizing their pricing and accurately estimating the likelihood that customers will make a claim. In many countries insurance it is a legal requirement to have car insurance in order to drive a vehicle on public roads, so the market is very large!\n",
    "\n",
    "Knowing all of this, On the Road car insurance have requested your services in building a model to predict whether a customer will make a claim on their insurance during the policy period. As they have very little expertise and infrastructure for deploying and monitoring machine learning models, they've asked you to identify the single feature that results in the best performing model, as measured by accuracy, so they can start with a simple model in production.\n",
    "\n",
    "They have supplied you with their customer data as a csv file called `car_insurance.csv`, along with a table detailing the column names and descriptions below."
   ]
  },
  {
   "cell_type": "markdown",
   "id": "8928ffdf-25d6-4ad9-909f-0dd8d10b9a42",
   "metadata": {},
   "source": [
    "\n",
    "\n",
    "## The dataset\n",
    "\n",
    "| Column | Description |\n",
    "|--------|-------------|\n",
    "| `id` | Unique client identifier |\n",
    "| `age` | Client's age: <br> <ul><li>`0`: 16-15</li><li>`1`: 26-39</li><li>`2`: 40-64</li><li>`3`: 65+</li></ul> |\n",
    "| `gender` | Client's gender: <br> <ul><li>`0`: Female</li><li>`1`: Male</li></ul> |\n",
    "| `driving_experience` | Years the client has been driving: <br> <ul><li>`0`: 0-9</li><li>`1`: 10-19</li><li>`2`: 20-29</li><li>`3`: 30+</li></ul> |\n",
    "| `education` | Client's level of education: <br> <ul><li>`0`: No education</li><li>`1`: High school</li><li>`2`: University</li></ul> |\n",
    "| `income` | Client's income level: <br> <ul><li>`0`: Poverty</li><li>`1`: Working class</li><li>`2`: Middle class</li><li>`3`: Upper class</li></ul> |\n",
    "| `credit_score` | Client's credit score (between zero and one) |\n",
    "| `vehicle_ownership` | Client's vehicle ownership status: <br><ul><li>`0`: Does not own their vehilce (paying off finance)</li><li>`1`: Owns their vehicle</li></ul> |\n",
    "| `vehcile_year` | Year of vehicle registration: <br><ul><li>`0`: Before 2015</li><li>`1`: 2015 or later</li></ul> |\n",
    "| `married` | Client's marital status: <br><ul><li>`0`: Not married</li><li>`1`: Married</li></ul> |\n",
    "| `children` | Client's number of children |\n",
    "| `postal_code` | Client's postal code | \n",
    "| `annual_mileage` | Number of miles driven by the client each year |\n",
    "| `vehicle_type` | Type of car: <br> <ul><li>`0`: Sedan</li><li>`1`: Sports car</li></ul> |\n",
    "| `speeding_violations` | Total number of speeding violations received by the client | \n",
    "| `duis` | Number of times the client has been caught driving under the influence of alcohol |\n",
    "| `past_accidents` | Total number of previous accidents the client has been involved in |\n",
    "| `outcome` | Whether the client made a claim on their car insurance (response variable): <br><ul><li>`0`: No claim</li><li>`1`: Made a claim</li></ul> |"
   ]
  },
  {
   "cell_type": "code",
   "execution_count": 1,
   "id": "d0eb4f16-5a99-460d-a5ba-706b7ef0bbe7",
   "metadata": {
    "executionCancelledAt": null,
    "executionTime": 28,
    "id": "bA5ajAmk7XH6",
    "lastExecutedAt": 1704219082221,
    "lastScheduledRunId": null,
    "lastSuccessfullyExecutedCode": "# Import required modules\nimport pandas as pd\nimport numpy as np\nfrom statsmodels.formula.api import logit\n\n# Start coding!\n#read in data\ncars = pd.read_csv(\"car_insurance.csv\")"
   },
   "outputs": [],
   "source": [
    "# Import required modules\n",
    "import pandas as pd\n",
    "import numpy as np\n",
    "from statsmodels.formula.api import logit\n",
    "\n",
    "# Start coding!\n",
    "#read in data\n",
    "cars = pd.read_csv(\"car_insurance.csv\")"
   ]
  },
  {
   "cell_type": "code",
   "execution_count": 2,
   "id": "e4fcd0ed-b6d8-42b1-9941-c656b5afcf01",
   "metadata": {
    "executionCancelledAt": null,
    "executionTime": 54,
    "jupyter": {
     "outputs_hidden": false,
     "source_hidden": false
    },
    "lastExecutedAt": 1704219082275,
    "lastScheduledRunId": null,
    "lastSuccessfullyExecutedCode": "#data inspection\ncars.info(), # missing values in #credit_score & #annual_mileage",
    "outputsMetadata": {
     "0": {
      "height": 517,
      "type": "stream"
     }
    }
   },
   "outputs": [
    {
     "name": "stdout",
     "output_type": "stream",
     "text": [
      "<class 'pandas.core.frame.DataFrame'>\n",
      "RangeIndex: 10000 entries, 0 to 9999\n",
      "Data columns (total 18 columns):\n",
      " #   Column               Non-Null Count  Dtype  \n",
      "---  ------               --------------  -----  \n",
      " 0   id                   10000 non-null  int64  \n",
      " 1   age                  10000 non-null  int64  \n",
      " 2   gender               10000 non-null  int64  \n",
      " 3   driving_experience   10000 non-null  object \n",
      " 4   education            10000 non-null  object \n",
      " 5   income               10000 non-null  object \n",
      " 6   credit_score         9018 non-null   float64\n",
      " 7   vehicle_ownership    10000 non-null  float64\n",
      " 8   vehicle_year         10000 non-null  object \n",
      " 9   married              10000 non-null  float64\n",
      " 10  children             10000 non-null  float64\n",
      " 11  postal_code          10000 non-null  int64  \n",
      " 12  annual_mileage       9043 non-null   float64\n",
      " 13  vehicle_type         10000 non-null  object \n",
      " 14  speeding_violations  10000 non-null  int64  \n",
      " 15  duis                 10000 non-null  int64  \n",
      " 16  past_accidents       10000 non-null  int64  \n",
      " 17  outcome              10000 non-null  float64\n",
      "dtypes: float64(6), int64(7), object(5)\n",
      "memory usage: 1.4+ MB\n"
     ]
    },
    {
     "data": {
      "text/plain": [
       "(None,)"
      ]
     },
     "execution_count": 2,
     "metadata": {},
     "output_type": "execute_result"
    }
   ],
   "source": [
    "#data inspection\n",
    "cars.info(), # missing values in #credit_score & #annual_mileage"
   ]
  },
  {
   "cell_type": "code",
   "execution_count": 3,
   "id": "c046cd8c-1ff6-463e-bb5a-e76ffe59a78c",
   "metadata": {
    "executionCancelledAt": null,
    "executionTime": 1025,
    "jupyter": {
     "outputs_hidden": false,
     "source_hidden": false
    },
    "lastExecutedAt": 1704219083300,
    "lastScheduledRunId": null,
    "lastSuccessfullyExecutedCode": "#deal with missing values\nimport matplotlib.pyplot as plt\nimport seaborn as sns\n#want to visalize the data first\nsns.histplot(x = \"credit_score\", data = cars)\nplt.show()\nsns.histplot(x = \"annual_mileage\", data = cars)\nplt.show()"
   },
   "outputs": [
    {
     "data": {
      "image/png": "[encoded data removed]",
      "text/plain": [
       "<Figure size 640x480 with 1 Axes>"
      ]
     },
     "metadata": {},
     "output_type": "display_data"
    },
    {
     "data": {
      "image/png": "[encoded data removed]",
      "text/plain": [
       "<Figure size 640x480 with 1 Axes>"
      ]
     },
     "metadata": {},
     "output_type": "display_data"
    }
   ],
   "source": [
    "#deal with missing values\n",
    "import matplotlib.pyplot as plt\n",
    "import seaborn as sns\n",
    "#want to visalize the data first\n",
    "sns.histplot(x = \"credit_score\", data = cars)\n",
    "plt.show()\n",
    "sns.histplot(x = \"annual_mileage\", data = cars)\n",
    "plt.show()"
   ]
  },
  {
   "cell_type": "code",
   "execution_count": 4,
   "id": "c49b2155-97c5-4bde-b9ac-84b7c792d810",
   "metadata": {
    "executionCancelledAt": null,
    "executionTime": 50,
    "lastExecutedAt": 1704219083350,
    "lastScheduledRunId": null,
    "lastSuccessfullyExecutedCode": "#Based on the graphs that we showed, we can impute the missing values with mean.\n#make a copy of the original data\ncars_cp = cars.copy()\ncars_cp.fillna({'credit_score': cars_cp['credit_score'].mean()}, inplace = True)\ncars_cp.fillna({'annual_mileage': cars_cp['annual_mileage'].mean()}, inplace = True)"
   },
   "outputs": [],
   "source": [
    "#Based on the graphs that we showed, we can impute the missing values with mean.\n",
    "#make a copy of the original data\n",
    "cars_cp = cars.copy()\n",
    "cars_cp.fillna({'credit_score': cars_cp['credit_score'].mean()}, inplace = True)\n",
    "cars_cp.fillna({'annual_mileage': cars_cp['annual_mileage'].mean()}, inplace = True)"
   ]
  },
  {
   "cell_type": "code",
   "execution_count": 5,
   "id": "52d7c925-9007-431a-93d2-586da57d3d4d",
   "metadata": {
    "executionCancelledAt": null,
    "executionTime": 57,
    "jupyter": {
     "outputs_hidden": false,
     "source_hidden": false
    },
    "lastExecutedAt": 1704219083408,
    "lastScheduledRunId": null,
    "lastSuccessfullyExecutedCode": "#inspect data\ncars_cp.info()  #no missing values\ncars_cp.head() #for all the pbjects data, we should covert them into categorical codes that is given in the instruction.\n# the columns are: driving_expereince, education, income, vehicle_year, vehicle_type\ncars_cp.driving_experience.unique()",
    "outputsMetadata": {
     "0": {
      "height": 517,
      "type": "stream"
     }
    }
   },
   "outputs": [
    {
     "name": "stdout",
     "output_type": "stream",
     "text": [
      "<class 'pandas.core.frame.DataFrame'>\n",
      "RangeIndex: 10000 entries, 0 to 9999\n",
      "Data columns (total 18 columns):\n",
      " #   Column               Non-Null Count  Dtype  \n",
      "---  ------               --------------  -----  \n",
      " 0   id                   10000 non-null  int64  \n",
      " 1   age                  10000 non-null  int64  \n",
      " 2   gender               10000 non-null  int64  \n",
      " 3   driving_experience   10000 non-null  object \n",
      " 4   education            10000 non-null  object \n",
      " 5   income               10000 non-null  object \n",
      " 6   credit_score         10000 non-null  float64\n",
      " 7   vehicle_ownership    10000 non-null  float64\n",
      " 8   vehicle_year         10000 non-null  object \n",
      " 9   married              10000 non-null  float64\n",
      " 10  children             10000 non-null  float64\n",
      " 11  postal_code          10000 non-null  int64  \n",
      " 12  annual_mileage       10000 non-null  float64\n",
      " 13  vehicle_type         10000 non-null  object \n",
      " 14  speeding_violations  10000 non-null  int64  \n",
      " 15  duis                 10000 non-null  int64  \n",
      " 16  past_accidents       10000 non-null  int64  \n",
      " 17  outcome              10000 non-null  float64\n",
      "dtypes: float64(6), int64(7), object(5)\n",
      "memory usage: 1.4+ MB\n"
     ]
    },
    {
     "data": {
      "text/plain": [
       "array(['0-9y', '10-19y', '20-29y', '30y+'], dtype=object)"
      ]
     },
     "execution_count": 5,
     "metadata": {},
     "output_type": "execute_result"
    }
   ],
   "source": [
    "#inspect data\n",
    "cars_cp.info()  #no missing values\n",
    "cars_cp.head() #for all the pbjects data, we should covert them into categorical codes that is given in the instruction.\n",
    "# the columns are: driving_expereince, education, income, vehicle_year, vehicle_type\n",
    "cars_cp.driving_experience.unique()"
   ]
  },
  {
   "cell_type": "code",
   "execution_count": 6,
   "id": "a3e3b37f-a05e-427f-ae20-25716fb66fc7",
   "metadata": {
    "executionCancelledAt": null,
    "executionTime": 54,
    "jupyter": {
     "outputs_hidden": false,
     "source_hidden": false
    },
    "lastExecutedAt": 1704219083462,
    "lastScheduledRunId": null,
    "lastSuccessfullyExecutedCode": "# the columns are: driving_expereince, education, income, vehicle_year, vehicle_type\n# writing a for loop to do it\nfor i in cars_cp.columns:\n    if cars_cp[i].dtype == 'object':\n        if i == 'driving_experience':\n            cars_cp[i] = pd.Categorical(cars_cp[i], categories= ['0-9y', '10-19y', '20-29y', '30y+'], ordered = True)\n        elif i == 'education':\n            cars_cp[i] = pd.Categorical(cars_cp[i], categories=['none', 'high school', 'university'], ordered = True)\n        elif i == 'income' :\n            cars_cp[i] = pd.Categorical(cars_cp[i], categories=['poverty', 'working class', 'middle class', 'upper class'], ordered = True)\n        elif i == 'vehicle_year':\n            cars_cp[i] = pd.Categorical(cars_cp[i], categories=['before 2015', 'after 2015'], ordered = True)\n        elif i == 'vehicle_type':\n            cars_cp[i] = pd.Categorical(cars_cp[i], categories=['sedan', 'sports car'], ordered = True)\n        cars_cp[i] = cars_cp[i].cat.codes\n        cars_cp[i] = cars_cp[i].astype('int64')\n",
    "outputsMetadata": {
     "0": {
      "height": 37,
      "type": "stream"
     }
    }
   },
   "outputs": [],
   "source": [
    "# the columns are: driving_expereince, education, income, vehicle_year, vehicle_type\n",
    "# writing a for loop to do it\n",
    "for i in cars_cp.columns:\n",
    "    if cars_cp[i].dtype == 'object':\n",
    "        if i == 'driving_experience':\n",
    "            cars_cp[i] = pd.Categorical(cars_cp[i], categories= ['0-9y', '10-19y', '20-29y', '30y+'], ordered = True)\n",
    "        elif i == 'education':\n",
    "            cars_cp[i] = pd.Categorical(cars_cp[i], categories=['none', 'high school', 'university'], ordered = True)\n",
    "        elif i == 'income' :\n",
    "            cars_cp[i] = pd.Categorical(cars_cp[i], categories=['poverty', 'working class', 'middle class', 'upper class'], ordered = True)\n",
    "        elif i == 'vehicle_year':\n",
    "            cars_cp[i] = pd.Categorical(cars_cp[i], categories=['before 2015', 'after 2015'], ordered = True)\n",
    "        elif i == 'vehicle_type':\n",
    "            cars_cp[i] = pd.Categorical(cars_cp[i], categories=['sedan', 'sports car'], ordered = True)\n",
    "        cars_cp[i] = cars_cp[i].cat.codes\n",
    "        cars_cp[i] = cars_cp[i].astype('int64')\n"
   ]
  },
  {
   "cell_type": "code",
   "execution_count": 7,
   "id": "e2026e44-2308-4abe-9d49-5bae501cd7f9",
   "metadata": {
    "executionCancelledAt": null,
    "executionTime": 52,
    "jupyter": {
     "outputs_hidden": false,
     "source_hidden": false
    },
    "lastExecutedAt": 1704219083515,
    "lastScheduledRunId": null,
    "lastSuccessfullyExecutedCode": "## double check to make sure our input are numerical before we feed the model.\ncars_cp.info() #after the check, now we can fit the model ",
    "outputsMetadata": {
     "0": {
      "height": 517,
      "type": "stream"
     }
    }
   },
   "outputs": [
    {
     "name": "stdout",
     "output_type": "stream",
     "text": [
      "<class 'pandas.core.frame.DataFrame'>\n",
      "RangeIndex: 10000 entries, 0 to 9999\n",
      "Data columns (total 18 columns):\n",
      " #   Column               Non-Null Count  Dtype  \n",
      "---  ------               --------------  -----  \n",
      " 0   id                   10000 non-null  int64  \n",
      " 1   age                  10000 non-null  int64  \n",
      " 2   gender               10000 non-null  int64  \n",
      " 3   driving_experience   10000 non-null  int64  \n",
      " 4   education            10000 non-null  int64  \n",
      " 5   income               10000 non-null  int64  \n",
      " 6   credit_score         10000 non-null  float64\n",
      " 7   vehicle_ownership    10000 non-null  float64\n",
      " 8   vehicle_year         10000 non-null  int64  \n",
      " 9   married              10000 non-null  float64\n",
      " 10  children             10000 non-null  float64\n",
      " 11  postal_code          10000 non-null  int64  \n",
      " 12  annual_mileage       10000 non-null  float64\n",
      " 13  vehicle_type         10000 non-null  int64  \n",
      " 14  speeding_violations  10000 non-null  int64  \n",
      " 15  duis                 10000 non-null  int64  \n",
      " 16  past_accidents       10000 non-null  int64  \n",
      " 17  outcome              10000 non-null  float64\n",
      "dtypes: float64(6), int64(12)\n",
      "memory usage: 1.4 MB\n"
     ]
    }
   ],
   "source": [
    "## double check to make sure our input are numerical before we feed the model.\n",
    "cars_cp.info() #after the check, now we can fit the model "
   ]
  },
  {
   "cell_type": "code",
   "execution_count": 8,
   "id": "0b8429f1-1ca2-4a72-9fa5-6f1d473b4012",
   "metadata": {
    "executionCancelledAt": null,
    "executionTime": 1850,
    "jupyter": {
     "outputs_hidden": true,
     "source_hidden": false
    },
    "lastExecutedAt": 1704219085365,
    "lastScheduledRunId": null,
    "lastSuccessfullyExecutedCode": "features = cars_cp.drop(['id', 'outcome'], axis = 1).columns\n\n#now we can fit out data to logit model with the features\nbest_accuracy = 0\nfor i in features:\n    cars_log = logit(\"outcome\" + '~' + str(i), data = cars_cp).fit()\n    conf_matrix = cars_log.pred_table()\n    TN = conf_matrix[0,0]\n    TP = conf_matrix[1,1]\n    FN = conf_matrix[1,0]\n    FP = conf_matrix[0,1]\n    acc = (TN + TP) / (TN + TP + FN + FP)\n    if acc > best_accuracy:\n        best_accuracy = acc\n        best_feature = i",
    "outputsMetadata": {
     "0": {
      "height": 616,
      "type": "stream"
     },
     "1": {
      "height": 616,
      "type": "stream"
     },
     "10": {
      "height": 77,
      "type": "stream"
     },
     "12": {
      "height": 77,
      "type": "stream"
     },
     "14": {
      "height": 77,
      "type": "stream"
     },
     "16": {
      "height": 77,
      "type": "stream"
     },
     "18": {
      "height": 77,
      "type": "stream"
     },
     "2": {
      "height": 77,
      "type": "stream"
     },
     "20": {
      "height": 77,
      "type": "stream"
     },
     "22": {
      "height": 77,
      "type": "stream"
     },
     "24": {
      "height": 77,
      "type": "stream"
     },
     "26": {
      "height": 77,
      "type": "stream"
     },
     "28": {
      "height": 77,
      "type": "stream"
     },
     "30": {
      "height": 77,
      "type": "stream"
     },
     "4": {
      "height": 77,
      "type": "stream"
     },
     "6": {
      "height": 77,
      "type": "stream"
     },
     "8": {
      "height": 77,
      "type": "stream"
     }
    }
   },
   "outputs": [
    {
     "name": "stdout",
     "output_type": "stream",
     "text": [
      "Optimization terminated successfully.\n",
      "         Current function value: 0.511794\n",
      "         Iterations 6\n",
      "Optimization terminated successfully.\n",
      "         Current function value: 0.615951\n",
      "         Iterations 5\n",
      "Optimization terminated successfully.\n",
      "         Current function value: 0.467390\n",
      "         Iterations 7\n",
      "Optimization terminated successfully.\n",
      "         Current function value: 0.603848\n",
      "         Iterations 5\n",
      "Optimization terminated successfully.\n",
      "         Current function value: 0.531580\n",
      "         Iterations 5\n",
      "Optimization terminated successfully.\n",
      "         Current function value: 0.572557\n",
      "         Iterations 6\n",
      "Optimization terminated successfully.\n",
      "         Current function value: 0.552412\n",
      "         Iterations 5\n",
      "Optimization terminated successfully.\n",
      "         Current function value: 0.572668\n",
      "         Iterations 6\n",
      "Optimization terminated successfully.\n",
      "         Current function value: 0.586659\n",
      "         Iterations 5\n",
      "Optimization terminated successfully.\n",
      "         Current function value: 0.595431\n",
      "         Iterations 5\n",
      "Optimization terminated successfully.\n",
      "         Current function value: 0.617345\n",
      "         Iterations 5\n",
      "Optimization terminated successfully.\n",
      "         Current function value: 0.605716\n",
      "         Iterations 5\n",
      "Optimization terminated successfully.\n",
      "         Current function value: 0.621700\n",
      "         Iterations 5\n",
      "Optimization terminated successfully.\n",
      "         Current function value: 0.558922\n",
      "         Iterations 7\n",
      "Optimization terminated successfully.\n",
      "         Current function value: 0.598699\n",
      "         Iterations 6\n",
      "Optimization terminated successfully.\n",
      "         Current function value: 0.549220\n",
      "         Iterations 7\n"
     ]
    }
   ],
   "source": [
    "features = cars_cp.drop(['id', 'outcome'], axis = 1).columns\n",
    "\n",
    "#now we can fit out data to logit model with the features\n",
    "best_accuracy = 0\n",
    "for i in features:\n",
    "    cars_log = logit(\"outcome\" + '~' + str(i), data = cars_cp).fit()\n",
    "    conf_matrix = cars_log.pred_table()\n",
    "    TN = conf_matrix[0,0]\n",
    "    TP = conf_matrix[1,1]\n",
    "    FN = conf_matrix[1,0]\n",
    "    FP = conf_matrix[0,1]\n",
    "    acc = (TN + TP) / (TN + TP + FN + FP)\n",
    "    if acc > best_accuracy:\n",
    "        best_accuracy = acc\n",
    "        best_feature = i"
   ]
  },
  {
   "cell_type": "code",
   "execution_count": 9,
   "id": "8f0400ec-5f82-4320-86eb-6d179285306b",
   "metadata": {
    "executionCancelledAt": null,
    "executionTime": 57,
    "lastExecutedAt": 1704219085422,
    "lastScheduledRunId": null,
    "lastSuccessfullyExecutedCode": "data = {'best_feature': [best_feature],\n        'best_accuracy' : [best_accuracy]}\n\nbest_feature_df = pd.DataFrame(data)\ndisplay(best_feature_df)",
    "outputsMetadata": {
     "0": {
      "height": 98,
      "type": "dataFrame"
     }
    }
   },
   "outputs": [
    {
     "data": {
      "text/html": [
       "<div>\n",
       "<style scoped>\n",
       "    .dataframe tbody tr th:only-of-type {\n",
       "        vertical-align: middle;\n",
       "    }\n",
       "\n",
       "    .dataframe tbody tr th {\n",
       "        vertical-align: top;\n",
       "    }\n",
       "\n",
       "    .dataframe thead th {\n",
       "        text-align: right;\n",
       "    }\n",
       "</style>\n",
       "<table border=\"1\" class=\"dataframe\">\n",
       "  <thead>\n",
       "    <tr style=\"text-align: right;\">\n",
       "      <th></th>\n",
       "      <th>best_feature</th>\n",
       "      <th>best_accuracy</th>\n",
       "    </tr>\n",
       "  </thead>\n",
       "  <tbody>\n",
       "    <tr>\n",
       "      <th>0</th>\n",
       "      <td>driving_experience</td>\n",
       "      <td>0.7771</td>\n",
       "    </tr>\n",
       "  </tbody>\n",
       "</table>\n",
       "</div>"
      ],
      "text/plain": [
       "         best_feature  best_accuracy\n",
       "0  driving_experience         0.7771"
      ]
     },
     "metadata": {},
     "output_type": "display_data"
    }
   ],
   "source": [
    "data = {'best_feature': [best_feature],\n",
    "        'best_accuracy' : [best_accuracy]}\n",
    "\n",
    "best_feature_df = pd.DataFrame(data)\n",
    "display(best_feature_df)"
   ]
  }
 ],
 "metadata": {
  "colab": {
   "name": "Welcome to DataCamp Workspaces.ipynb",
   "provenance": []
  },
  "editor": "DataCamp Workspace",
  "kernelspec": {
   "display_name": "Python 3 (ipykernel)",
   "language": "python",
   "name": "python3"
  },
  "language_info": {
   "codemirror_mode": {
    "name": "ipython",
    "version": 3
   },
   "file_extension": ".py",
   "mimetype": "text/x-python",
   "name": "python",
   "nbconvert_exporter": "python",
   "pygments_lexer": "ipython3",
   "version": "3.10.9"
  },
  "vscode": {
   "interpreter": {
    "hash": "aee8b7b246df8f9039afb4144a1f6fd8d2ca17a180786b69acc140d282b71a49"
   }
  }
 },
 "nbformat": 4,
 "nbformat_minor": 5
}
